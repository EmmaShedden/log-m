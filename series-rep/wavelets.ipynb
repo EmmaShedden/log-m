{
 "cells": [
  {
   "cell_type": "markdown",
   "id": "de55117f",
   "metadata": {},
   "source": [
    "## Haar Wavelet Visualization"
   ]
  },
  {
   "cell_type": "code",
   "execution_count": null,
   "id": "feb6bde8",
   "metadata": {},
   "outputs": [],
   "source": [
    "import numpy as np\n",
    "import matplotlib.pyplot as plt"
   ]
  },
  {
   "cell_type": "code",
   "execution_count": null,
   "id": "0e04e2f4",
   "metadata": {},
   "outputs": [],
   "source": [
    "# plot all the wavelets next to each other\n",
    "# j : (natural number) scaling parameter\n",
    "# k : (natural number) translating parameter\n",
    "# X : (array-like, shape=(n, ), dtype=float) timestamps, shared by all basis functions\n",
    "# Ys: (array-like, shape<(m, n), dtype=float) y-values for different parameter settings\n",
    "def plot(js, ks, X, Ys):\n",
    "    assert(len(Ns) == len(Ts) and len(Ts) == len(fBms))\n",
    "    numrows = len(Ns)\n",
    "    fig, axs = plt.subplots(numrows, 1, figsize=(14, 6*numrows), sharex=True)\n",
    "    \n",
    "    for n in range(numrows):\n",
    "        axs[n].plot(Ts[n], fBms[n], label=\"j={:.2f}, k={}\".format(Hs[n], Ns[n]))\n",
    "        axs[n].legend(fontsize = 18)\n",
    "\n",
    "    fig.suptitle(\"Paths of fBm for different values of H\", fontsize=24)\n",
    "    fig.subplots_adjust(wspace=0.1, hspace=0.1, top=0.95, bottom=0.05)\n",
    "\n",
    "    for ax in axs.flat:\n",
    "        ax.set_xlabel(\"Time (over the unit interval)\", fontsize=18)\n",
    "        ax.set_ylabel(\"Particle position\", fontsize=18)\n",
    "    for ax in axs.flat:\n",
    "        ax.label_outer()\n",
    "\n",
    "    plt.savefig(\"fBm.png\")"
   ]
  },
  {
   "cell_type": "code",
   "execution_count": 16,
   "id": "f7758327",
   "metadata": {},
   "outputs": [],
   "source": [
    "# driver\n",
    "def generate(j_bound):\n",
    "    ks = [[k for k in range(2**j)] for j in range(j_bound)]\n",
    "    print(js)"
   ]
  },
  {
   "cell_type": "code",
   "execution_count": 17,
   "id": "d90a5572",
   "metadata": {},
   "outputs": [
    {
     "name": "stdout",
     "output_type": "stream",
     "text": [
      "[[0], [0, 1], [0, 1, 2, 3], [0, 1, 2, 3, 4, 5, 6, 7], [0, 1, 2, 3, 4, 5, 6, 7, 8, 9, 10, 11, 12, 13, 14, 15]]\n"
     ]
    }
   ],
   "source": [
    "generate(5)"
   ]
  },
  {
   "cell_type": "code",
   "execution_count": null,
   "id": "b3faa54a",
   "metadata": {},
   "outputs": [],
   "source": []
  }
 ],
 "metadata": {
  "kernelspec": {
   "display_name": "Python 3 (ipykernel)",
   "language": "python",
   "name": "python3"
  },
  "language_info": {
   "codemirror_mode": {
    "name": "ipython",
    "version": 3
   },
   "file_extension": ".py",
   "mimetype": "text/x-python",
   "name": "python",
   "nbconvert_exporter": "python",
   "pygments_lexer": "ipython3",
   "version": "3.10.4"
  }
 },
 "nbformat": 4,
 "nbformat_minor": 5
}
